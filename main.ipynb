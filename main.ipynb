{
 "cells": [
  {
   "cell_type": "code",
   "execution_count": 1,
   "metadata": {},
   "outputs": [],
   "source": [
    "import os\n",
    "import numpy as np\n",
    "import pandas as pd\n",
    "from PIL import Image"
   ]
  },
  {
   "cell_type": "code",
   "execution_count": 2,
   "metadata": {},
   "outputs": [],
   "source": [
    "import torch\n",
    "from torch.optim import AdamW\n",
    "from torchvision import transforms\n",
    "from torch.utils.data import Dataset, DataLoader\n",
    "from torch import nn\n",
    "import tqdm"
   ]
  },
  {
   "cell_type": "code",
   "execution_count": 3,
   "metadata": {},
   "outputs": [],
   "source": [
    "class PlantDiseaseDataset(Dataset):\n",
    "    def __init__(self, path, transform=None, image_shape=(256,256),channels=\"RGB\"):\n",
    "        self.__images_labels = []\n",
    "        self.image_shape = image_shape\n",
    "        self.channels = channels\n",
    "        self.transform = transform\n",
    "\n",
    "        if os.path.exists(path):\n",
    "            self.labels = os.listdir(path)\n",
    "            for label in self.labels:\n",
    "                label_path = os.path.join(path, label)\n",
    "                if os.path.isdir(label_path):\n",
    "                    files = os.listdir(label_path)\n",
    "                    for file in files:\n",
    "                        if file.endswith(\"jpg\") or file.endswith(\"png\"):\n",
    "                            image_path = os.path.join(label_path, file)\n",
    "                            self.__images_labels.append((image_path, label))\n",
    "                        else:\n",
    "                            pass\n",
    "                else:\n",
    "                    pass\n",
    "                \n",
    "        else:\n",
    "            pass\n",
    "\n",
    "    def _load(self, path, channels=\"RGB\"):\n",
    "        width, height = self.image_shape\n",
    "        loader = transforms.Compose([\n",
    "            transforms.Resize(width, height),\n",
    "            transforms.ToTensor()\n",
    "        ])\n",
    "        image = Image.open(path).convert(channels)\n",
    "        return loader(image)\n",
    "    \n",
    "    def __len__(self):\n",
    "        return len(self.__images_labels)\n",
    "    \n",
    "    def __getitem__(self, index):\n",
    "        path, label = self.__images_labels[index]\n",
    "        image = self._load(path)\n",
    "        \n",
    "        if self.transform is not None:\n",
    "            image = self.transform(image)\n",
    "            \n",
    "        label = self.labels.index(label)\n",
    "        \n",
    "        return {\n",
    "            \"image\": image,\n",
    "            \"label\": label,\n",
    "        }\n",
    "\n",
    "def collate_fn(batch):\n",
    "    all_images, all_labels = [], []\n",
    "    for item in batch:\n",
    "        image = item['image']\n",
    "        label = item['label']\n",
    "        \n",
    "        all_images.append(image.tolist())\n",
    "        all_labels.append(label)\n",
    "        \n",
    "    return { \n",
    "        \"images\": torch.tensor(all_images),\n",
    "        \"labels\": torch.tensor(all_labels, dtype=torch.int8)\n",
    "    }"
   ]
  },
  {
   "cell_type": "code",
   "execution_count": 13,
   "metadata": {},
   "outputs": [],
   "source": [
    "trainpath = 'Train/Train/'\n",
    "trainset = PlantDiseaseDataset(path=trainpath)\n",
    "trainloader = DataLoader(trainset, batch_size=64, shuffle=True)"
   ]
  },
  {
   "cell_type": "code",
   "execution_count": 14,
   "metadata": {},
   "outputs": [],
   "source": [
    "valpath = 'Validation/Validation/'\n",
    "valset = PlantDiseaseDataset(path=valpath)\n",
    "valloader = DataLoader(valset, batch_size=64, shuffle=True)"
   ]
  },
  {
   "cell_type": "code",
   "execution_count": 15,
   "metadata": {},
   "outputs": [],
   "source": [
    "testpath = 'Test/Test/'\n",
    "testset = PlantDiseaseDataset(path=testpath)\n",
    "testloader = DataLoader(testset, batch_size=64, shuffle=True)"
   ]
  },
  {
   "cell_type": "code",
   "execution_count": null,
   "metadata": {},
   "outputs": [],
   "source": []
  }
 ],
 "metadata": {
  "kernelspec": {
   "display_name": "env",
   "language": "python",
   "name": "python3"
  },
  "language_info": {
   "codemirror_mode": {
    "name": "ipython",
    "version": 3
   },
   "file_extension": ".py",
   "mimetype": "text/x-python",
   "name": "python",
   "nbconvert_exporter": "python",
   "pygments_lexer": "ipython3",
   "version": "3.11.7"
  }
 },
 "nbformat": 4,
 "nbformat_minor": 2
}
